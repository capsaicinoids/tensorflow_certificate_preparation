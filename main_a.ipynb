{
 "cells": [
  {
   "cell_type": "code",
   "execution_count": null,
   "metadata": {},
   "outputs": [],
   "source": [
    "from build_model.submission_a import SubmissionA1, SubmissionA2"
   ]
  },
  {
   "attachments": {},
   "cell_type": "markdown",
   "metadata": {},
   "source": [
    "# Solution A1"
   ]
  },
  {
   "cell_type": "code",
   "execution_count": null,
   "metadata": {},
   "outputs": [],
   "source": [
    "a1 = SubmissionA1()\n",
    "\n",
    "a1.neurons = (1, )\n",
    "a1.epochs = 300\n",
    "a1.activation = \"relu\"\n",
    "a1.optimizer = \"sgd\"\n",
    "a1.loss = \"mse\"\n",
    "a1.metrics = [\"mae\", \"accuracy\"]"
   ]
  },
  {
   "cell_type": "code",
   "execution_count": null,
   "metadata": {},
   "outputs": [],
   "source": [
    "model_a1 = a1.train_model()"
   ]
  },
  {
   "cell_type": "code",
   "execution_count": null,
   "metadata": {},
   "outputs": [],
   "source": [
    "print(model_a1.predict([-2.0, 10.0]))"
   ]
  },
  {
   "attachments": {},
   "cell_type": "markdown",
   "metadata": {},
   "source": [
    "# Solution A2"
   ]
  },
  {
   "cell_type": "code",
   "execution_count": null,
   "metadata": {},
   "outputs": [],
   "source": [
    "a2 = SubmissionA2((16, 32, 64), (3, 3), 'relu')\n",
    "\n",
    "# Hyperparemeters Class\n",
    "a2.neurons = (1, )\n",
    "a2.epochs = 500\n",
    "a2.activation = \"relu\"\n",
    "a2.optimizer = \"sgd\"\n",
    "a2.loss = \"mse\"\n",
    "a2.metrics = [\"mae\", \"accuracy\"]"
   ]
  }
 ],
 "metadata": {
  "kernelspec": {
   "display_name": "venv",
   "language": "python",
   "name": "python3"
  },
  "language_info": {
   "codemirror_mode": {
    "name": "ipython",
    "version": 3
   },
   "file_extension": ".py",
   "mimetype": "text/x-python",
   "name": "python",
   "nbconvert_exporter": "python",
   "pygments_lexer": "ipython3",
   "version": "3.11.3"
  },
  "orig_nbformat": 4
 },
 "nbformat": 4,
 "nbformat_minor": 2
}
