{
 "cells": [
  {
   "cell_type": "code",
   "execution_count": 1,
   "metadata": {},
   "outputs": [
    {
     "name": "stderr",
     "output_type": "stream",
     "text": [
      "/home/archsus/.local/lib/python3.11/site-packages/tqdm/auto.py:21: TqdmWarning: IProgress not found. Please update jupyter and ipywidgets. See https://ipywidgets.readthedocs.io/en/stable/user_install.html\n",
      "  from .autonotebook import tqdm as notebook_tqdm\n",
      "2023-06-30 15:41:37.652653: I tensorflow/tsl/cuda/cudart_stub.cc:28] Could not find cuda drivers on your machine, GPU will not be used.\n",
      "2023-06-30 15:41:37.747221: I tensorflow/tsl/cuda/cudart_stub.cc:28] Could not find cuda drivers on your machine, GPU will not be used.\n",
      "2023-06-30 15:41:37.748977: I tensorflow/core/platform/cpu_feature_guard.cc:182] This TensorFlow binary is optimized to use available CPU instructions in performance-critical operations.\n",
      "To enable the following instructions: AVX2 FMA, in other operations, rebuild TensorFlow with the appropriate compiler flags.\n",
      "2023-06-30 15:41:39.469719: W tensorflow/compiler/tf2tensorrt/utils/py_utils.cc:38] TF-TRT Warning: Could not find TensorRT\n"
     ]
    }
   ],
   "source": [
    "from build_model.submission_a import SubmissionA1, SubmissionA2, SubmissionA3, SubmissionA4"
   ]
  },
  {
   "attachments": {},
   "cell_type": "markdown",
   "metadata": {},
   "source": [
    "# Solution A1"
   ]
  },
  {
   "cell_type": "code",
   "execution_count": null,
   "metadata": {},
   "outputs": [],
   "source": [
    "a1 = SubmissionA1(input_shape = (1,))\n",
    "\n",
    "# Hyperparemeters Class\n",
    "a1.neurons = (1, 1,)\n",
    "a1.epochs = 500\n",
    "a1.activation = (\"relu\", \"relu\",)\n",
    "a1.optimizer = \"sgd\"\n",
    "a1.loss = \"mse\"\n",
    "a1.metrics = [\"mae\"]"
   ]
  },
  {
   "cell_type": "code",
   "execution_count": null,
   "metadata": {},
   "outputs": [],
   "source": [
    "print(a1.build_layers().summary())"
   ]
  },
  {
   "cell_type": "code",
   "execution_count": null,
   "metadata": {},
   "outputs": [],
   "source": [
    "model_a1 = a1.train_model()"
   ]
  },
  {
   "cell_type": "code",
   "execution_count": null,
   "metadata": {},
   "outputs": [],
   "source": [
    "print(model_a1.predict([-2.0, 10.0]))"
   ]
  },
  {
   "attachments": {},
   "cell_type": "markdown",
   "metadata": {},
   "source": [
    "# Solution A2"
   ]
  },
  {
   "cell_type": "code",
   "execution_count": null,
   "metadata": {},
   "outputs": [],
   "source": [
    "a2 = SubmissionA2(input_shape=(150, 150, 3), filters=(16, 32, 64), kernel_size=(3, 3), activation_conv2d='relu')\n",
    "\n",
    "# Hyperparemeters Class\n",
    "a2.neurons = (512, 1, )\n",
    "a2.epochs = 25\n",
    "a2.batch_size = 32\n",
    "a2.activation = (\"relu\", \"sigmoid\",)\n",
    "a2.optimizer = \"RMSProp\"\n",
    "a2.loss = \"binary_crossentropy\"\n",
    "a2.metrics = [\"accuracy\"]"
   ]
  },
  {
   "cell_type": "code",
   "execution_count": null,
   "metadata": {},
   "outputs": [],
   "source": [
    "print(a2.build_layers().summary())"
   ]
  },
  {
   "cell_type": "code",
   "execution_count": null,
   "metadata": {},
   "outputs": [],
   "source": [
    "model_a2 = a2.train_model()"
   ]
  },
  {
   "attachments": {},
   "cell_type": "markdown",
   "metadata": {},
   "source": [
    "# Solution A3"
   ]
  },
  {
   "cell_type": "code",
   "execution_count": null,
   "metadata": {},
   "outputs": [],
   "source": [
    "a3 = SubmissionA3(input_shape=(150, 150, 3), weights=None, include_top=False)\n",
    "\n",
    "# Hyperparemeters Class\n",
    "a3.neurons = (512, 1, )\n",
    "a3.epochs = 25\n",
    "a3.activation = (\"relu\", \"sigmoid\",)\n",
    "a3.optimizer = \"RMSProp\"\n",
    "a3.batch_size = 32\n",
    "a3.loss = \"binary_crossentropy\"\n",
    "a3.metrics = [\"accuracy\"]"
   ]
  },
  {
   "cell_type": "code",
   "execution_count": null,
   "metadata": {},
   "outputs": [],
   "source": [
    "# It will take a decade to run this cell if you are using my computers\n",
    "print(a3.build_model().summary())"
   ]
  },
  {
   "cell_type": "code",
   "execution_count": null,
   "metadata": {},
   "outputs": [],
   "source": [
    "model_a3 = a3.train_model()"
   ]
  },
  {
   "attachments": {},
   "cell_type": "markdown",
   "metadata": {},
   "source": [
    "# Solution A4"
   ]
  },
  {
   "cell_type": "code",
   "execution_count": 2,
   "metadata": {},
   "outputs": [],
   "source": [
    "a4 = SubmissionA4()\n",
    "\n",
    "# Hyperparemeters Class\n",
    "a4.neurons = (1, )\n",
    "a4.epochs = 20\n",
    "a4.activation = (\"sigmoid\",)\n",
    "a4.optimizer = \"adam\"\n",
    "a4.loss = \"binary_crossentropy\"\n",
    "a4.metrics = [\"accuracy\"]"
   ]
  },
  {
   "cell_type": "code",
   "execution_count": 3,
   "metadata": {},
   "outputs": [
    {
     "name": "stdout",
     "output_type": "stream",
     "text": [
      "Model: \"sequential\"\n",
      "_________________________________________________________________\n",
      " Layer (type)                Output Shape              Param #   \n",
      "=================================================================\n",
      " embedding (Embedding)       (None, 120, 16)           160000    \n",
      "                                                                 \n",
      " dropout (Dropout)           (None, 120, 16)           0         \n",
      "                                                                 \n",
      " global_average_pooling1d (G  (None, 16)               0         \n",
      " lobalAveragePooling1D)                                          \n",
      "                                                                 \n",
      " dropout_1 (Dropout)         (None, 16)                0         \n",
      "                                                                 \n",
      " dense (Dense)               (None, 1)                 17        \n",
      "                                                                 \n",
      "=================================================================\n",
      "Total params: 160,017\n",
      "Trainable params: 160,017\n",
      "Non-trainable params: 0\n",
      "_________________________________________________________________\n",
      "None\n"
     ]
    }
   ],
   "source": [
    "print(a4.build_layers().summary())"
   ]
  },
  {
   "cell_type": "code",
   "execution_count": 4,
   "metadata": {},
   "outputs": [
    {
     "name": "stderr",
     "output_type": "stream",
     "text": [
      "2023-06-30 15:41:45.813914: I tensorflow/core/common_runtime/executor.cc:1197] [/device:CPU:0] (DEBUG INFO) Executor start aborting (this does not indicate an error and you can ignore this message): INVALID_ARGUMENT: You must feed a value for placeholder tensor 'Placeholder/_2' with dtype string and shape [1]\n",
      "\t [[{{node Placeholder/_2}}]]\n",
      "2023-06-30 15:41:45.814661: I tensorflow/core/common_runtime/executor.cc:1197] [/device:CPU:0] (DEBUG INFO) Executor start aborting (this does not indicate an error and you can ignore this message): INVALID_ARGUMENT: You must feed a value for placeholder tensor 'Placeholder/_2' with dtype string and shape [1]\n",
      "\t [[{{node Placeholder/_2}}]]\n",
      "2023-06-30 15:42:02.027478: I tensorflow/core/common_runtime/executor.cc:1197] [/device:CPU:0] (DEBUG INFO) Executor start aborting (this does not indicate an error and you can ignore this message): INVALID_ARGUMENT: You must feed a value for placeholder tensor 'Placeholder/_0' with dtype string and shape [1]\n",
      "\t [[{{node Placeholder/_0}}]]\n",
      "2023-06-30 15:42:02.028845: I tensorflow/core/common_runtime/executor.cc:1197] [/device:CPU:0] (DEBUG INFO) Executor start aborting (this does not indicate an error and you can ignore this message): INVALID_ARGUMENT: You must feed a value for placeholder tensor 'Placeholder/_4' with dtype int64 and shape [1]\n",
      "\t [[{{node Placeholder/_4}}]]\n"
     ]
    },
    {
     "name": "stdout",
     "output_type": "stream",
     "text": [
      "Epoch 1/20\n",
      "782/782 [==============================] - 12s 13ms/step - loss: 0.6381 - accuracy: 0.7151 - val_loss: 0.5669 - val_accuracy: 0.7648\n",
      "Epoch 2/20\n",
      "782/782 [==============================] - 10s 13ms/step - loss: 0.4910 - accuracy: 0.8096 - val_loss: 0.4588 - val_accuracy: 0.8098\n",
      "Epoch 3/20\n",
      "782/782 [==============================] - 10s 13ms/step - loss: 0.4026 - accuracy: 0.8428 - val_loss: 0.4126 - val_accuracy: 0.8198\n",
      "Epoch 4/20\n",
      "782/782 [==============================] - 11s 14ms/step - loss: 0.3535 - accuracy: 0.8582 - val_loss: 0.3876 - val_accuracy: 0.8300\n",
      "Epoch 5/20\n",
      "782/782 [==============================] - ETA: 0s - loss: 0.3216 - accuracy: 0.8721\\Both Accuracy is more than 83%, stopping...\n",
      "782/782 [==============================] - 12s 15ms/step - loss: 0.3216 - accuracy: 0.8721 - val_loss: 0.3730 - val_accuracy: 0.8346\n"
     ]
    }
   ],
   "source": [
    "a4_model = a4.train_model()"
   ]
  },
  {
   "cell_type": "code",
   "execution_count": null,
   "metadata": {},
   "outputs": [],
   "source": []
  }
 ],
 "metadata": {
  "kernelspec": {
   "display_name": "venv",
   "language": "python",
   "name": "python3"
  },
  "language_info": {
   "codemirror_mode": {
    "name": "ipython",
    "version": 3
   },
   "file_extension": ".py",
   "mimetype": "text/x-python",
   "name": "python",
   "nbconvert_exporter": "python",
   "pygments_lexer": "ipython3",
   "version": "3.11.3"
  },
  "orig_nbformat": 4
 },
 "nbformat": 4,
 "nbformat_minor": 2
}
