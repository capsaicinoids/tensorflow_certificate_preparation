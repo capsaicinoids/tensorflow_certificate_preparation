{
 "cells": [
  {
   "cell_type": "code",
   "execution_count": null,
   "metadata": {},
   "outputs": [],
   "source": [
    "from build_model.submission_a import SubmissionA1, SubmissionA2, SubmissionA3, SubmissionA4, SubmissionA5"
   ]
  },
  {
   "attachments": {},
   "cell_type": "markdown",
   "metadata": {},
   "source": [
    "# Solution A1"
   ]
  },
  {
   "cell_type": "code",
   "execution_count": null,
   "metadata": {},
   "outputs": [],
   "source": [
    "a1 = SubmissionA1(input_shape = (1,))\n",
    "\n",
    "# Hyperparemeters Class\n",
    "a1.neurons = (1, 1,)\n",
    "a1.epochs = 500\n",
    "a1.activation = (\"relu\", \"relu\",)\n",
    "a1.optimizer = \"sgd\"\n",
    "a1.loss = \"mse\"\n",
    "a1.metrics = [\"mae\"]"
   ]
  },
  {
   "cell_type": "code",
   "execution_count": null,
   "metadata": {},
   "outputs": [],
   "source": [
    "print(a1.build_layers().summary())"
   ]
  },
  {
   "cell_type": "code",
   "execution_count": null,
   "metadata": {},
   "outputs": [],
   "source": [
    "model_a1 = a1.train_model()"
   ]
  },
  {
   "cell_type": "code",
   "execution_count": null,
   "metadata": {},
   "outputs": [],
   "source": [
    "print(model_a1.predict([-2.0, 10.0]))"
   ]
  },
  {
   "attachments": {},
   "cell_type": "markdown",
   "metadata": {},
   "source": [
    "# Solution A2"
   ]
  },
  {
   "cell_type": "code",
   "execution_count": null,
   "metadata": {},
   "outputs": [],
   "source": [
    "a2 = SubmissionA2(input_shape=(150, 150, 3), filters=(16, 32, 64), kernel_size=(3, 3), activation_cnn='relu')\n",
    "\n",
    "# Hyperparemeters Class\n",
    "a2.neurons = (512, 1, )\n",
    "a2.epochs = 25\n",
    "a2.batch_size = 32\n",
    "a2.activation = (\"relu\", \"sigmoid\",)\n",
    "a2.optimizer = \"RMSProp\"\n",
    "a2.loss = \"binary_crossentropy\"\n",
    "a2.metrics = [\"accuracy\"]"
   ]
  },
  {
   "cell_type": "code",
   "execution_count": null,
   "metadata": {},
   "outputs": [],
   "source": [
    "print(a2.build_layers().summary())"
   ]
  },
  {
   "cell_type": "code",
   "execution_count": null,
   "metadata": {},
   "outputs": [],
   "source": [
    "model_a2 = a2.train_model()"
   ]
  },
  {
   "attachments": {},
   "cell_type": "markdown",
   "metadata": {},
   "source": [
    "# Solution A3"
   ]
  },
  {
   "cell_type": "code",
   "execution_count": null,
   "metadata": {},
   "outputs": [],
   "source": [
    "a3 = SubmissionA3(input_shape=(150, 150, 3), weights=None, include_top=False)\n",
    "\n",
    "# Hyperparemeters Class\n",
    "a3.neurons = (512, 1, )\n",
    "a3.epochs = 25\n",
    "a3.activation = (\"relu\", \"sigmoid\",)\n",
    "a3.optimizer = \"RMSProp\"\n",
    "a3.batch_size = 32\n",
    "a3.loss = \"binary_crossentropy\"\n",
    "a3.metrics = [\"accuracy\"]"
   ]
  },
  {
   "cell_type": "code",
   "execution_count": null,
   "metadata": {},
   "outputs": [],
   "source": [
    "# It will take a decade to run this cell if you are using my computer\n",
    "# print(a3.build_model().summary())"
   ]
  },
  {
   "cell_type": "code",
   "execution_count": null,
   "metadata": {},
   "outputs": [],
   "source": [
    "model_a3 = a3.train_model()"
   ]
  },
  {
   "attachments": {},
   "cell_type": "markdown",
   "metadata": {},
   "source": [
    "# Solution A4"
   ]
  },
  {
   "cell_type": "code",
   "execution_count": null,
   "metadata": {},
   "outputs": [],
   "source": [
    "a4 = SubmissionA4()\n",
    "\n",
    "# Hyperparemeters Class\n",
    "a4.neurons = (1, )\n",
    "a4.epochs = 20\n",
    "a4.activation = (\"sigmoid\",)\n",
    "a4.optimizer = \"adam\"\n",
    "a4.loss = \"binary_crossentropy\"\n",
    "a4.metrics = [\"accuracy\"]"
   ]
  },
  {
   "cell_type": "code",
   "execution_count": null,
   "metadata": {},
   "outputs": [],
   "source": [
    "print(a4.build_layers().summary())"
   ]
  },
  {
   "cell_type": "code",
   "execution_count": null,
   "metadata": {},
   "outputs": [],
   "source": [
    "a4_model = a4.train_model()"
   ]
  },
  {
   "attachments": {},
   "cell_type": "markdown",
   "metadata": {},
   "source": [
    "# Submission A5"
   ]
  },
  {
   "cell_type": "code",
   "execution_count": null,
   "metadata": {},
   "outputs": [],
   "source": [
    "a5 = SubmissionA5(input_shape=[None, 1], filters=64, kernel_size=3, activation_cnn='relu')\n",
    "\n",
    "a5.neurons = (30, 15, 1, )\n",
    "a5.epochs = 25\n",
    "a5.activation = (\"relu\", \"relu\", \"linear\", )\n",
    "a5.optimizer = \"adam\"\n",
    "a5.loss = \"huber\"\n",
    "a5.metrics = [\"mae\", \"mse\"]"
   ]
  },
  {
   "cell_type": "code",
   "execution_count": null,
   "metadata": {},
   "outputs": [],
   "source": [
    "print(a5.build_model().summary())"
   ]
  },
  {
   "cell_type": "code",
   "execution_count": null,
   "metadata": {},
   "outputs": [],
   "source": [
    "model_a5 = a5.train_model()"
   ]
  }
 ],
 "metadata": {
  "kernelspec": {
   "display_name": "venv",
   "language": "python",
   "name": "python3"
  },
  "language_info": {
   "codemirror_mode": {
    "name": "ipython",
    "version": 3
   },
   "file_extension": ".py",
   "mimetype": "text/x-python",
   "name": "python",
   "nbconvert_exporter": "python",
   "pygments_lexer": "ipython3",
   "version": "3.11.3"
  },
  "orig_nbformat": 4
 },
 "nbformat": 4,
 "nbformat_minor": 2
}
