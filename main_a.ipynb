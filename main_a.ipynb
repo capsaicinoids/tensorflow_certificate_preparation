{
 "cells": [
  {
   "cell_type": "code",
   "execution_count": 1,
   "metadata": {},
   "outputs": [
    {
     "name": "stderr",
     "output_type": "stream",
     "text": [
      "2023-06-29 19:59:11.432442: I tensorflow/tsl/cuda/cudart_stub.cc:28] Could not find cuda drivers on your machine, GPU will not be used.\n",
      "2023-06-29 19:59:11.517690: I tensorflow/tsl/cuda/cudart_stub.cc:28] Could not find cuda drivers on your machine, GPU will not be used.\n",
      "2023-06-29 19:59:11.519178: I tensorflow/core/platform/cpu_feature_guard.cc:182] This TensorFlow binary is optimized to use available CPU instructions in performance-critical operations.\n",
      "To enable the following instructions: AVX2 FMA, in other operations, rebuild TensorFlow with the appropriate compiler flags.\n",
      "2023-06-29 19:59:13.229299: W tensorflow/compiler/tf2tensorrt/utils/py_utils.cc:38] TF-TRT Warning: Could not find TensorRT\n"
     ]
    }
   ],
   "source": [
    "from build_model.submission_a import SubmissionA1, SubmissionA2"
   ]
  },
  {
   "attachments": {},
   "cell_type": "markdown",
   "metadata": {},
   "source": [
    "# Solution A1"
   ]
  },
  {
   "cell_type": "code",
   "execution_count": null,
   "metadata": {},
   "outputs": [],
   "source": [
    "a1 = SubmissionA1(input_shape = (1,))\n",
    "\n",
    "# Hyperparemeters Class\n",
    "a1.neurons = (1, 1,)\n",
    "a1.epochs = 500\n",
    "a1.activation = (\"relu\", \"relu\",)\n",
    "a1.optimizer = \"sgd\"\n",
    "a1.loss = \"mse\"\n",
    "a1.metrics = [\"mae\"]"
   ]
  },
  {
   "cell_type": "code",
   "execution_count": null,
   "metadata": {},
   "outputs": [],
   "source": [
    "print(a1.build_layers().summary())"
   ]
  },
  {
   "cell_type": "code",
   "execution_count": null,
   "metadata": {},
   "outputs": [],
   "source": [
    "model_a1 = a1.train_model()"
   ]
  },
  {
   "cell_type": "code",
   "execution_count": null,
   "metadata": {},
   "outputs": [],
   "source": [
    "print(model_a1.predict([-2.0, 10.0]))"
   ]
  },
  {
   "attachments": {},
   "cell_type": "markdown",
   "metadata": {},
   "source": [
    "# Solution A2"
   ]
  },
  {
   "cell_type": "code",
   "execution_count": 2,
   "metadata": {},
   "outputs": [],
   "source": [
    "a2 = SubmissionA2(input_shape=(150, 150, 3), filters=(16, 32, 64), kernel_size=(3, 3), activation_conv2d='relu')\n",
    "\n",
    "# Hyperparemeters Class\n",
    "a2.neurons = (512, 1, )\n",
    "a2.epochs = 25\n",
    "a2.activation = (\"relu\", \"sigmoid\",)\n",
    "a2.optimizer = \"RMSProp\"\n",
    "a2.loss = \"binary_crossentropy\"\n",
    "a2.metrics = [\"accuracy\"]"
   ]
  },
  {
   "cell_type": "code",
   "execution_count": 3,
   "metadata": {},
   "outputs": [
    {
     "name": "stdout",
     "output_type": "stream",
     "text": [
      "Model: \"sequential\"\n",
      "_________________________________________________________________\n",
      " Layer (type)                Output Shape              Param #   \n",
      "=================================================================\n",
      " conv2d (Conv2D)             (None, 148, 148, 16)      448       \n",
      "                                                                 \n",
      " max_pooling2d (MaxPooling2D  (None, 74, 74, 16)       0         \n",
      " )                                                               \n",
      "                                                                 \n",
      " conv2d_1 (Conv2D)           (None, 72, 72, 32)        4640      \n",
      "                                                                 \n",
      " max_pooling2d_1 (MaxPooling  (None, 36, 36, 32)       0         \n",
      " 2D)                                                             \n",
      "                                                                 \n",
      " conv2d_2 (Conv2D)           (None, 34, 34, 64)        18496     \n",
      "                                                                 \n",
      " max_pooling2d_2 (MaxPooling  (None, 17, 17, 64)       0         \n",
      " 2D)                                                             \n",
      "                                                                 \n",
      " flatten (Flatten)           (None, 18496)             0         \n",
      "                                                                 \n",
      " dense (Dense)               (None, 512)               9470464   \n",
      "                                                                 \n",
      " dense_1 (Dense)             (None, 1)                 513       \n",
      "                                                                 \n",
      "=================================================================\n",
      "Total params: 9,494,561\n",
      "Trainable params: 9,494,561\n",
      "Non-trainable params: 0\n",
      "_________________________________________________________________\n",
      "None\n"
     ]
    }
   ],
   "source": [
    "print(a2.build_layers().summary())"
   ]
  },
  {
   "cell_type": "code",
   "execution_count": 4,
   "metadata": {},
   "outputs": [
    {
     "name": "stdout",
     "output_type": "stream",
     "text": [
      "Found 1027 images belonging to 2 classes.\n",
      "Found 256 images belonging to 2 classes.\n",
      "Epoch 1/25\n"
     ]
    },
    {
     "name": "stderr",
     "output_type": "stream",
     "text": [
      "2023-06-29 19:59:25.626844: I tensorflow/core/common_runtime/executor.cc:1197] [/device:CPU:0] (DEBUG INFO) Executor start aborting (this does not indicate an error and you can ignore this message): INVALID_ARGUMENT: You must feed a value for placeholder tensor 'Placeholder/_0' with dtype int32\n",
      "\t [[{{node Placeholder/_0}}]]\n"
     ]
    },
    {
     "name": "stdout",
     "output_type": "stream",
     "text": [
      "33/33 [==============================] - ETA: 0s - loss: 1.1017 - accuracy: 0.5969"
     ]
    },
    {
     "name": "stderr",
     "output_type": "stream",
     "text": [
      "2023-06-29 19:59:56.286721: I tensorflow/core/common_runtime/executor.cc:1197] [/device:CPU:0] (DEBUG INFO) Executor start aborting (this does not indicate an error and you can ignore this message): INVALID_ARGUMENT: You must feed a value for placeholder tensor 'Placeholder/_0' with dtype int32\n",
      "\t [[{{node Placeholder/_0}}]]\n"
     ]
    },
    {
     "name": "stdout",
     "output_type": "stream",
     "text": [
      "33/33 [==============================] - 33s 939ms/step - loss: 1.1017 - accuracy: 0.5969 - val_loss: 0.5657 - val_accuracy: 0.6289\n",
      "Epoch 2/25\n",
      "33/33 [==============================] - 29s 869ms/step - loss: 0.5651 - accuracy: 0.7692 - val_loss: 0.8349 - val_accuracy: 0.7773\n",
      "Epoch 3/25\n",
      "33/33 [==============================] - 32s 968ms/step - loss: 0.3029 - accuracy: 0.8695 - val_loss: 0.7143 - val_accuracy: 0.8242\n",
      "Epoch 4/25\n",
      "33/33 [==============================] - 33s 983ms/step - loss: 0.3069 - accuracy: 0.8647 - val_loss: 1.3639 - val_accuracy: 0.7188\n",
      "Epoch 5/25\n",
      "33/33 [==============================] - 34s 1s/step - loss: 0.2350 - accuracy: 0.9094 - val_loss: 1.8242 - val_accuracy: 0.7031\n",
      "Epoch 6/25\n",
      "33/33 [==============================] - 34s 1s/step - loss: 0.1548 - accuracy: 0.9377 - val_loss: 3.1315 - val_accuracy: 0.6875\n",
      "Epoch 7/25\n",
      "33/33 [==============================] - 35s 1s/step - loss: 0.1614 - accuracy: 0.9367 - val_loss: 2.4114 - val_accuracy: 0.7266\n",
      "Epoch 8/25\n",
      "33/33 [==============================] - 33s 1s/step - loss: 0.2067 - accuracy: 0.9299 - val_loss: 1.6919 - val_accuracy: 0.7344\n",
      "Epoch 9/25\n",
      "33/33 [==============================] - 35s 1s/step - loss: 0.2205 - accuracy: 0.9211 - val_loss: 0.9492 - val_accuracy: 0.8242\n",
      "Epoch 10/25\n",
      "33/33 [==============================] - ETA: 0s - loss: 0.0962 - accuracy: 0.9620\\Both Accuracy is more than 83%, stopping...\n",
      "33/33 [==============================] - 33s 1s/step - loss: 0.0962 - accuracy: 0.9620 - val_loss: 0.6150 - val_accuracy: 0.8672\n"
     ]
    }
   ],
   "source": [
    "model_a2 = a2.train_model()"
   ]
  },
  {
   "cell_type": "code",
   "execution_count": null,
   "metadata": {},
   "outputs": [],
   "source": [
    "model_a2.save(\"submission_a2.h5\")"
   ]
  }
 ],
 "metadata": {
  "kernelspec": {
   "display_name": "venv",
   "language": "python",
   "name": "python3"
  },
  "language_info": {
   "codemirror_mode": {
    "name": "ipython",
    "version": 3
   },
   "file_extension": ".py",
   "mimetype": "text/x-python",
   "name": "python",
   "nbconvert_exporter": "python",
   "pygments_lexer": "ipython3",
   "version": "3.11.3"
  },
  "orig_nbformat": 4
 },
 "nbformat": 4,
 "nbformat_minor": 2
}
